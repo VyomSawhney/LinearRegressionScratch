{
  "nbformat": 4,
  "nbformat_minor": 0,
  "metadata": {
    "colab": {
      "provenance": [],
      "authorship_tag": "ABX9TyPuAdoRID/Yn1k4sLSrHFT6",
      "include_colab_link": true
    },
    "kernelspec": {
      "name": "python3",
      "display_name": "Python 3"
    },
    "language_info": {
      "name": "python"
    }
  },
  "cells": [
    {
      "cell_type": "markdown",
      "metadata": {
        "id": "view-in-github",
        "colab_type": "text"
      },
      "source": [
        "<a href=\"https://colab.research.google.com/github/VyomSawhney/LinearRegressionScratch/blob/main/MultidimensionalLinearRegression.ipynb\" target=\"_parent\"><img src=\"https://colab.research.google.com/assets/colab-badge.svg\" alt=\"Open In Colab\"/></a>"
      ]
    },
    {
      "cell_type": "markdown",
      "source": [
        "##Custom Multidimensional Linear Regression - by Vyom Sawhney"
      ],
      "metadata": {
        "id": "xKrHiqGfHZ5i"
      }
    },
    {
      "cell_type": "code",
      "source": [
        "import numpy as np"
      ],
      "metadata": {
        "id": "rr-h99jtkkSR"
      },
      "execution_count": 1,
      "outputs": []
    },
    {
      "cell_type": "code",
      "source": [
        "class LinearRegressionGD:\n",
        "  #Constructor\n",
        "  def __init__(self, learning_rate=0.01, max_iters=1000, tolerance=1e-6):\n",
        "    self.lr = learning_rate\n",
        "    self.max_iters = max_iters\n",
        "    self.tolerance = tolerance\n",
        "    self.W = None\n",
        "    self.B = 0.0\n",
        "\n",
        "  #Returns the predicted 𝑦_hat\n",
        "  def predict(self, X):\n",
        "    return (X @ self.W)+self.B\n",
        "\n",
        "  #Returns loss of fitting (MeanSquareError)\n",
        "  def loss(self, X, y):\n",
        "    return (1/X.shape[0])*np.sum((self.predict(X)-y)**2)\n",
        "\n",
        "  #Main fitting logic\n",
        "  def fit(self, X, y):\n",
        "    n_samples, n_features = X.shape\n",
        "    self.W = np.zeros(n_features)\n",
        "    self.B = 0.0\n",
        "    #Track change in loss over the iterations\n",
        "    losschange = 0\n",
        "    oldloss = 0\n",
        "    #Iterate over inputted iterations\n",
        "    for i in range(self.max_iters):\n",
        "      prediction = self.predict(X)\n",
        "      #Determine gradients\n",
        "      p_W = (2/X.shape[0])*(X.T @ (prediction-y))\n",
        "      p_B = (2/X.shape[0])*np.sum((prediction-y))\n",
        "      #Update gradients\n",
        "      self.W = self.W - (self.lr*p_W)\n",
        "      self.B = self.B - (self.lr*p_B)\n",
        "      #Losscheck condition\n",
        "      newloss = self.loss(X, y)\n",
        "      if i != 0 and abs(oldloss-newloss) < self.tolerance:\n",
        "        break\n",
        "      oldloss = newloss\n",
        "    return self\n",
        "\n"
      ],
      "metadata": {
        "id": "32xJ4fAMklGj"
      },
      "execution_count": 33,
      "outputs": []
    },
    {
      "cell_type": "markdown",
      "source": [
        "##Single Feature Test"
      ],
      "metadata": {
        "id": "wVn73aT4HV7P"
      }
    },
    {
      "cell_type": "code",
      "source": [
        "X = np.array([[0], [1], [2], [3], [4]])\n",
        "y = np.array([0, 2, 4, 6, 8])\n",
        "\n",
        "model = LinearRegressionGD(learning_rate=0.1, max_iters=5000, tolerance=1e-8)\n",
        "model.fit(X, y)"
      ],
      "metadata": {
        "id": "zAH_acW_Gsst",
        "colab": {
          "base_uri": "https://localhost:8080/"
        },
        "outputId": "d4b944ac-e4ba-4912-b15e-b1a7eae0a5b0"
      },
      "execution_count": 36,
      "outputs": [
        {
          "output_type": "execute_result",
          "data": {
            "text/plain": [
              "<__main__.LinearRegressionGD at 0x7da1e2eff0d0>"
            ]
          },
          "metadata": {},
          "execution_count": 36
        }
      ]
    },
    {
      "cell_type": "code",
      "source": [
        "print(\"W:\", model.W)\n",
        "print(\"B:\", model.B)\n",
        "print(\"Loss:\", model.loss(X, y))"
      ],
      "metadata": {
        "colab": {
          "base_uri": "https://localhost:8080/"
        },
        "id": "C2x4JY3rHhnl",
        "outputId": "ff8156d0-4516-4280-a9a4-074862f61897"
      },
      "execution_count": 37,
      "outputs": [
        {
          "output_type": "stream",
          "name": "stdout",
          "text": [
            "W: [1.99983649]\n",
            "B: 0.0004661357845792564\n",
            "Loss: 7.282439827902239e-08\n"
          ]
        }
      ]
    },
    {
      "cell_type": "markdown",
      "source": [
        "##Two Feature Test w/o Intercept"
      ],
      "metadata": {
        "id": "5QQYxOVgBtZG"
      }
    },
    {
      "cell_type": "code",
      "source": [
        "X = np.array([[1,1], [2,2], [3,3], [4,4]])\n",
        "y = np.array([6, 12, 18, 24])\n",
        "\n",
        "model = LinearRegressionGD(learning_rate=0.05, max_iters=5000, tolerance=1e-8)\n",
        "model.fit(X, y)"
      ],
      "metadata": {
        "colab": {
          "base_uri": "https://localhost:8080/"
        },
        "id": "1sx4X8GvB1vK",
        "outputId": "b0c81796-42f8-40e8-8851-9c2e7bb4cc33"
      },
      "execution_count": 38,
      "outputs": [
        {
          "output_type": "execute_result",
          "data": {
            "text/plain": [
              "<__main__.LinearRegressionGD at 0x7da1a8213b10>"
            ]
          },
          "metadata": {},
          "execution_count": 38
        }
      ]
    },
    {
      "cell_type": "code",
      "source": [
        "print(\"W:\", model.W)\n",
        "print(\"B:\", model.B)\n",
        "print(\"Loss:\", model.loss(X, y))"
      ],
      "metadata": {
        "colab": {
          "base_uri": "https://localhost:8080/"
        },
        "id": "jmOYXua4B5PY",
        "outputId": "787f60c5-6d34-45e8-e72d-284b2afd0d79"
      },
      "execution_count": 39,
      "outputs": [
        {
          "output_type": "stream",
          "name": "stdout",
          "text": [
            "W: [2.99977405 2.99977405]\n",
            "B: 0.0013414649518036772\n",
            "Loss: 3.00090893262555e-07\n"
          ]
        }
      ]
    },
    {
      "cell_type": "markdown",
      "source": [
        "##Two Feature Test w/Intercept"
      ],
      "metadata": {
        "id": "lP81R6U4B_Ev"
      }
    },
    {
      "cell_type": "code",
      "source": [
        "X = np.array([[1,0], [0,1], [1,1], [2,1]])\n",
        "y = np.array([2, 2, 3, 4])\n",
        "\n",
        "model = LinearRegressionGD(learning_rate=0.1, max_iters=5000, tolerance=1e-8)\n",
        "model.fit(X, y)"
      ],
      "metadata": {
        "colab": {
          "base_uri": "https://localhost:8080/"
        },
        "id": "LoqBbS41B-v3",
        "outputId": "cfc974af-5fc5-4f78-c036-c3a27aec738f"
      },
      "execution_count": 40,
      "outputs": [
        {
          "output_type": "execute_result",
          "data": {
            "text/plain": [
              "<__main__.LinearRegressionGD at 0x7da1c1578e90>"
            ]
          },
          "metadata": {},
          "execution_count": 40
        }
      ]
    },
    {
      "cell_type": "code",
      "source": [
        "print(\"W:\", model.W)\n",
        "print(\"B:\", model.B)\n",
        "print(\"Loss:\", model.loss(X, y))"
      ],
      "metadata": {
        "colab": {
          "base_uri": "https://localhost:8080/"
        },
        "id": "uO1OqbDECVdw",
        "outputId": "bc1221bb-6ced-4682-89f6-102fd8503c98"
      },
      "execution_count": 41,
      "outputs": [
        {
          "output_type": "stream",
          "name": "stdout",
          "text": [
            "W: [0.99971083 0.99900399]\n",
            "B: 1.001151780203896\n",
            "Loss: 2.4118004498835906e-07\n"
          ]
        }
      ]
    }
  ]
}