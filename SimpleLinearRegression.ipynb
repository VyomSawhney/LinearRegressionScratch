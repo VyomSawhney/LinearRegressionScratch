{
  "nbformat": 4,
  "nbformat_minor": 0,
  "metadata": {
    "colab": {
      "provenance": [],
      "authorship_tag": "ABX9TyMjWcB5UE0ED2F1aooME4sQ",
      "include_colab_link": true
    },
    "kernelspec": {
      "name": "python3",
      "display_name": "Python 3"
    },
    "language_info": {
      "name": "python"
    }
  },
  "cells": [
    {
      "cell_type": "markdown",
      "metadata": {
        "id": "view-in-github",
        "colab_type": "text"
      },
      "source": [
        "<a href=\"https://colab.research.google.com/github/VyomSawhney/LinearRegressionScratch/blob/main/SimpleLinearRegression.ipynb\" target=\"_parent\"><img src=\"https://colab.research.google.com/assets/colab-badge.svg\" alt=\"Open In Colab\"/></a>"
      ]
    },
    {
      "cell_type": "markdown",
      "source": [
        "##Custom Simple Linear Regression - by Vyom Sawhney"
      ],
      "metadata": {
        "id": "xKrHiqGfHZ5i"
      }
    },
    {
      "cell_type": "code",
      "source": [
        "import numpy as np"
      ],
      "metadata": {
        "id": "rr-h99jtkkSR"
      },
      "execution_count": 2,
      "outputs": []
    },
    {
      "cell_type": "code",
      "source": [
        "class LinearRegressionGD:\n",
        "  #Constructor\n",
        "  def __init__(self, learning_rate=0.01, max_iters=1000, tolerance=1e-6):\n",
        "    self.lr = learning_rate\n",
        "    self.max_iters = max_iters\n",
        "    self.tolerance = tolerance\n",
        "    self.W = 0\n",
        "    self.B = 0\n",
        "\n",
        "  #Returns the predicted 𝑦_hat\n",
        "  def predict(self, X):\n",
        "    return (self.W*X)+self.B\n",
        "\n",
        "  #Returns loss of fitting (MeanSquareError)\n",
        "  def loss(self, X, y):\n",
        "    return (1/X.shape[0])*np.sum((self.predict(X)-y)**2)\n",
        "\n",
        "  #Main fitting logic\n",
        "  def fit(self, X, y):\n",
        "    #Track change in loss over the iterations\n",
        "    losschange = 0\n",
        "    oldloss = 0\n",
        "    #Iterate over inputted iterations\n",
        "    for i in range(self.max_iters):\n",
        "      prediction = self.predict(X)\n",
        "      #Determine gradients\n",
        "      p_W = (2/X.shape[0])*np.sum(X*(prediction-y))\n",
        "      p_B = (2/X.shape[0])*np.sum((prediction-y))\n",
        "      #Update gradients\n",
        "      self.W = self.W - (self.lr*p_W)\n",
        "      self.B = self.B - (self.lr*p_B)\n",
        "      #Losscheck condition\n",
        "      newloss = self.loss(X, y)\n",
        "      if i != 0 and abs(oldloss-newloss) < self.tolerance:\n",
        "        break\n",
        "      oldloss = newloss\n",
        "\n"
      ],
      "metadata": {
        "id": "32xJ4fAMklGj"
      },
      "execution_count": 3,
      "outputs": []
    },
    {
      "cell_type": "markdown",
      "source": [
        "##Testing"
      ],
      "metadata": {
        "id": "wVn73aT4HV7P"
      }
    },
    {
      "cell_type": "code",
      "source": [
        "X = np.array([1, 2, 3, 4, 5])\n",
        "y = np.array([3, 5, 7, 9, 11])"
      ],
      "metadata": {
        "id": "zAH_acW_Gsst"
      },
      "execution_count": 4,
      "outputs": []
    },
    {
      "cell_type": "code",
      "source": [
        "model = LinearRegressionGD(learning_rate=0.01, max_iters=1000)\n",
        "model.fit(X, y)\n",
        "\n",
        "\n",
        "print(\"W:\", model.W)\n",
        "print(\"B:\", model.B)\n",
        "\n",
        "preds = model.predict(X)\n",
        "print(\"Predictions:\", preds)\n",
        "print(\"Loss:\", model.loss(X, y))"
      ],
      "metadata": {
        "colab": {
          "base_uri": "https://localhost:8080/"
        },
        "id": "C2x4JY3rHhnl",
        "outputId": "6fb1d4f7-ca38-489c-bee8-d101b787f6c8"
      },
      "execution_count": 5,
      "outputs": [
        {
          "output_type": "stream",
          "name": "stdout",
          "text": [
            "W: 2.0078492410728055\n",
            "B: 0.9716617491764677\n",
            "Predictions: [ 2.97951099  4.98736023  6.99520947  9.00305871 11.01090795]\n",
            "Loss: 0.0001461703255734069\n"
          ]
        }
      ]
    }
  ]
}